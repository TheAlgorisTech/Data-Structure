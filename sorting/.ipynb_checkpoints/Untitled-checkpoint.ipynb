{
 "cells": [
  {
   "cell_type": "markdown",
   "metadata": {},
   "source": [
    "# Sorting algorithms\n",
    "\n",
    "\n",
    "\n",
    "| Sort | Worst case | Average case | Best case |\n",
    "| :-------- | :---------:| :----------: | ---------: |\n",
    "| Bubble    |   $O(n^2)$        |    $O(n^2)$         |     $O(n)$     |\n",
    "| Insertion    |   -        |    -         |     -      |\n",
    "| Selection   |  $O(n^2)$       |    $O(n^2)$         |     $O(n^2)$      |\n"
   ]
  },
  {
   "cell_type": "code",
   "execution_count": 8,
   "metadata": {},
   "outputs": [],
   "source": [
    "import random"
   ]
  },
  {
   "cell_type": "code",
   "execution_count": 52,
   "metadata": {},
   "outputs": [],
   "source": [
    "ARRAY_LENGTH = 100\n",
    "array = list(range(ARRAY_LENGTH))\n",
    "random.shuffle(array)\n",
    "\n",
    "\n",
    "\n",
    "def print_test(sorted_, array):\n",
    "    print(\"Sorted ? {}\".format((\"True\" if sorted_ == sorted(array) else \"False\")))\n",
    "    print(sorted_,end=\"\")\n"
   ]
  },
  {
   "cell_type": "code",
   "execution_count": 15,
   "metadata": {},
   "outputs": [
    {
     "name": "stdout",
     "output_type": "stream",
     "text": [
      "[43, 50, 78, 70, 30, 49, 52, 91, 89, 98, 33, 99, 93, 67, 17, 26, 84, 86, 1, 25, 61, 14, 56, 31, 15, 60, 80, 21, 48, 41, 53, 82, 81, 94, 24, 95, 68, 34, 58, 97, 96, 47, 19, 40, 27, 39, 7, 76, 44, 57, 46, 38, 36, 83, 42, 23, 88, 62, 71, 3, 51, 90, 77, 37, 8, 0, 66, 11, 32, 85, 35, 92, 55, 72, 20, 74, 16, 28, 4, 18, 13, 65, 22, 45, 10, 2, 29, 69, 59, 63, 5, 9, 6, 75, 12, 79, 73, 54, 64, 87]"
     ]
    }
   ],
   "source": [
    "print(array, end=\"\")"
   ]
  },
  {
   "cell_type": "markdown",
   "metadata": {},
   "source": [
    "# Level 1 \n"
   ]
  },
  {
   "cell_type": "markdown",
   "metadata": {},
   "source": [
    "### 1. Bubble sort\n",
    "- Repeatedly steps through the list\n",
    "- Compares adjacent elements\n",
    "- Swap element if they are in the wrong order\n",
    "\n",
    "\n",
    "__Analysis:__\n",
    "- At ith iteration bubble sort will do (n-i) comparision, so overall it will do,\n",
    "$$\\sum_{i=1}^{n-1}n-i = n(n-1)/2 \\sim O(n^2)$$  \n",
    "\n",
    "__Time complexity:__\n",
    "- Worst case $O(n^2)$\n",
    "- Best case $O(n)$ when list is already sorted\n",
    "\n",
    "__Advantages:__\n",
    "- Simple algorithm\n",
    "- space memory is O(1) (only a single additional memory space is required)\n"
   ]
  },
  {
   "cell_type": "code",
   "execution_count": 18,
   "metadata": {},
   "outputs": [],
   "source": [
    "# Copy array\n",
    "array_bub = array[::]"
   ]
  },
  {
   "cell_type": "code",
   "execution_count": 47,
   "metadata": {},
   "outputs": [],
   "source": [
    "for i in range(ARRAY_LENGTH):\n",
    "    for j in range(i, ARRAY_LENGTH-1):\n",
    "        if array_bub[i] > array_bub[j]:\n",
    "            array_bub[i], array_bub[j] = array_bub[j], array_bub[i]"
   ]
  },
  {
   "cell_type": "code",
   "execution_count": 54,
   "metadata": {},
   "outputs": [
    {
     "name": "stdout",
     "output_type": "stream",
     "text": [
      "Sorted ? True\n",
      "[0, 1, 2, 3, 4, 5, 6, 7, 8, 9, 10, 11, 12, 13, 14, 15, 16, 17, 18, 19, 20, 21, 22, 23, 24, 25, 26, 27, 28, 29, 30, 31, 32, 33, 34, 35, 36, 37, 38, 39, 40, 41, 42, 43, 44, 45, 46, 47, 48, 49, 50, 51, 52, 53, 54, 55, 56, 57, 58, 59, 60, 61, 62, 63, 64, 65, 66, 67, 68, 69, 70, 71, 72, 73, 74, 75, 76, 77, 78, 79, 80, 81, 82, 83, 84, 85, 86, 87, 88, 89, 90, 91, 92, 93, 94, 95, 96, 97, 98, 99]"
     ]
    }
   ],
   "source": [
    "print_test(array_bub, array)"
   ]
  },
  {
   "cell_type": "markdown",
   "metadata": {},
   "source": [
    "### 2. Insertion sort\n",
    "- Efficient for smaller datasets\n",
    "- Better than insertion sort"
   ]
  },
  {
   "cell_type": "code",
   "execution_count": null,
   "metadata": {},
   "outputs": [],
   "source": []
  },
  {
   "cell_type": "code",
   "execution_count": 87,
   "metadata": {},
   "outputs": [],
   "source": [
    "inser_arr = array[::]\n",
    "\n",
    "for i in range(1, ARRAY_LENGTH):\n",
    "    \n",
    "    key = inser_arr[i]\n",
    "    j = i-1\n",
    "    # if key is less than previous varlues\n",
    "    # swap\n",
    "    while j >= 0 and key < inser_arr[j]:\n",
    "            inser_arr[j+1] = inser_arr[j]\n",
    "            j -= 1\n",
    "    inser_arr[j]"
   ]
  },
  {
   "cell_type": "code",
   "execution_count": 88,
   "metadata": {},
   "outputs": [
    {
     "name": "stdout",
     "output_type": "stream",
     "text": [
      "Sorted ? False\n",
      "[29, 29, 29, 29, 29, 29, 29, 29, 29, 29, 29, 29, 29, 29, 29, 29, 29, 29, 29, 29, 29, 29, 29, 29, 29, 29, 29, 29, 29, 29, 32, 32, 32, 46, 46, 46, 46, 46, 46, 46, 46, 46, 46, 46, 46, 46, 46, 81, 81, 81, 81, 81, 81, 81, 81, 81, 81, 81, 81, 81, 81, 81, 81, 81, 81, 81, 81, 81, 81, 81, 81, 81, 81, 81, 81, 81, 81, 81, 81, 81, 81, 81, 94, 94, 94, 94, 94, 94, 94, 94, 94, 94, 94, 94, 94, 96, 96, 99, 99, 99]"
     ]
    }
   ],
   "source": [
    "print_test(inser_arr, array)"
   ]
  },
  {
   "cell_type": "markdown",
   "metadata": {},
   "source": [
    "### 3. Selection sort\n",
    "- Find the smallest element in the array and swap it with the element in the first poisition\n",
    "- Find the second smallest element in the array and swap it with the element in the second poisition\n",
    "- Repeat doing this until the entire array is sorted\n",
    "\n",
    "__Analysis:__\n",
    "- Double nested for loop, one to find minimum index and other to iterate over array\n",
    "\n",
    "__Time complexity:__\n",
    "- Worst case $O(n^2)$\n",
    "- Best case $O(n^2)$\n",
    "- Average case $O(n^2)$\n",
    "\n",
    "__Advantages:__\n",
    "- Simple algorithm\n",
    "- space memory is O(1) (only a single additional memory space is required)\n"
   ]
  },
  {
   "cell_type": "code",
   "execution_count": 69,
   "metadata": {},
   "outputs": [],
   "source": [
    "sel_array = array[::]\n",
    "\n",
    "for i in range(ARRAY_LENGTH):\n",
    "    min_idx = sel_array.index(min(sel_array[i:])) # min needs a for loop\n",
    "    sel_array[i], sel_array[min_idx] = sel_array[min_idx], sel_array[i]"
   ]
  },
  {
   "cell_type": "code",
   "execution_count": 70,
   "metadata": {},
   "outputs": [
    {
     "name": "stdout",
     "output_type": "stream",
     "text": [
      "Sorted ? True\n",
      "[0, 1, 2, 3, 4, 5, 6, 7, 8, 9, 10, 11, 12, 13, 14, 15, 16, 17, 18, 19, 20, 21, 22, 23, 24, 25, 26, 27, 28, 29, 30, 31, 32, 33, 34, 35, 36, 37, 38, 39, 40, 41, 42, 43, 44, 45, 46, 47, 48, 49, 50, 51, 52, 53, 54, 55, 56, 57, 58, 59, 60, 61, 62, 63, 64, 65, 66, 67, 68, 69, 70, 71, 72, 73, 74, 75, 76, 77, 78, 79, 80, 81, 82, 83, 84, 85, 86, 87, 88, 89, 90, 91, 92, 93, 94, 95, 96, 97, 98, 99]"
     ]
    }
   ],
   "source": [
    "print_test(sel_array, array)"
   ]
  },
  {
   "cell_type": "markdown",
   "metadata": {},
   "source": [
    "# Level 2\n"
   ]
  },
  {
   "cell_type": "markdown",
   "metadata": {},
   "source": [
    "### 1 Heap sort"
   ]
  },
  {
   "cell_type": "markdown",
   "metadata": {},
   "source": [
    "### 2. Shaker sort"
   ]
  },
  {
   "cell_type": "markdown",
   "metadata": {},
   "source": [
    "### 3. Comb sort"
   ]
  },
  {
   "cell_type": "markdown",
   "metadata": {},
   "source": [
    "### 4. Quick sort"
   ]
  },
  {
   "cell_type": "markdown",
   "metadata": {},
   "source": [
    "### 5. Merge sort"
   ]
  },
  {
   "cell_type": "code",
   "execution_count": null,
   "metadata": {},
   "outputs": [],
   "source": [
    " "
   ]
  }
 ],
 "metadata": {
  "kernelspec": {
   "display_name": "Python 3",
   "language": "python",
   "name": "python3"
  },
  "language_info": {
   "codemirror_mode": {
    "name": "ipython",
    "version": 3
   },
   "file_extension": ".py",
   "mimetype": "text/x-python",
   "name": "python",
   "nbconvert_exporter": "python",
   "pygments_lexer": "ipython3",
   "version": "3.8.5"
  }
 },
 "nbformat": 4,
 "nbformat_minor": 4
}
