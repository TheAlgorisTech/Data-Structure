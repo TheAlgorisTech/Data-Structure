{
 "cells": [
  {
   "cell_type": "markdown",
   "metadata": {},
   "source": [
    "# Sorting algorithms\n",
    "\n",
    "\n",
    "\n",
    "| Sort | Worst case | Average case | Best case |\n",
    "| :-------- | :---------:| :----------: | ---------: |\n",
    "| Bubble    |   $O(n^2)$        |    $O(n^2)$         |     $O(n)$     |\n",
    "| Insertion    |   $O(n^2)$ |    $O(n)$         |     $O(n^2)$      |\n",
    "| Selection   |  $O(n^2)$       |    $O(n^2)$         |     $O(n^2)$      |\n",
    "| Merge   |  $O(nlogn)$       |    $O(nlogn)$         |     $O(nlogn)$      |\n",
    "| Heap   |  $O(nlogn)$       |    $O(nlogn)$         |     $O(nlogn)$      |\n",
    "| Counting | $O(n+k)$     | $O(n+k)$  | $O(n+k)$ |\n"
   ]
  },
  {
   "cell_type": "markdown",
   "metadata": {},
   "source": [
    "## Stable sort\n",
    "- Does not change the relative order elements with equal values"
   ]
  },
  {
   "cell_type": "code",
   "execution_count": 1,
   "metadata": {},
   "outputs": [],
   "source": [
    "import random"
   ]
  },
  {
   "cell_type": "code",
   "execution_count": 2,
   "metadata": {},
   "outputs": [],
   "source": [
    "ARRAY_LENGTH = 100\n",
    "array = list(range(ARRAY_LENGTH))\n",
    "random.shuffle(array)\n",
    "\n",
    "\n",
    "\n",
    "def print_test(sorted_, array):\n",
    "    print(\"Sorted ? {}\".format((\"True\" if sorted_ == sorted(array) else \"False\")))\n",
    "    print(sorted_,end=\"\")\n"
   ]
  },
  {
   "cell_type": "code",
   "execution_count": 3,
   "metadata": {},
   "outputs": [
    {
     "name": "stdout",
     "output_type": "stream",
     "text": [
      "[14, 77, 85, 39, 43, 84, 91, 7, 36, 8, 41, 55, 20, 88, 22, 24, 0, 75, 45, 5, 25, 17, 40, 30, 87, 68, 34, 99, 83, 18, 1, 42, 38, 37, 71, 97, 95, 76, 6, 15, 19, 57, 60, 89, 10, 21, 67, 86, 65, 66, 62, 51, 49, 53, 90, 92, 12, 74, 9, 46, 96, 54, 23, 44, 27, 80, 47, 32, 64, 35, 93, 79, 56, 94, 3, 58, 61, 81, 98, 70, 82, 50, 52, 2, 72, 73, 33, 29, 28, 69, 78, 11, 48, 13, 16, 59, 63, 26, 4, 31]"
     ]
    }
   ],
   "source": [
    "print(array, end=\"\")"
   ]
  },
  {
   "cell_type": "markdown",
   "metadata": {},
   "source": [
    "# Level 1 \n"
   ]
  },
  {
   "cell_type": "markdown",
   "metadata": {},
   "source": [
    "### 1. Bubble sort\n",
    "- Repeatedly steps through the list\n",
    "- Compares adjacent elements\n",
    "- Swap element if they are in the wrong order\n",
    "\n",
    "\n",
    "__Analysis:__\n",
    "- At ith iteration bubble sort will do (n-i) comparision, so overall it will do,\n",
    "$$\\sum_{i=1}^{n-1}n-i = n(n-1)/2 \\sim O(n^2)$$  \n",
    "\n",
    "__Time complexity:__\n",
    "- Worst case $O(n^2)$\n",
    "- Best case $O(n)$ when list is already sorted\n",
    "\n",
    "__Advantages:__\n",
    "- Simple algorithm\n",
    "- space memory is O(1) (only a single additional memory space is required)\n"
   ]
  },
  {
   "cell_type": "code",
   "execution_count": 18,
   "metadata": {},
   "outputs": [],
   "source": [
    "# Copy array\n",
    "array_bub = array[::]"
   ]
  },
  {
   "cell_type": "code",
   "execution_count": 47,
   "metadata": {},
   "outputs": [],
   "source": [
    "for i in range(ARRAY_LENGTH):\n",
    "    for j in range(i, ARRAY_LENGTH-1):\n",
    "        if array_bub[i] > array_bub[j]:\n",
    "            array_bub[i], array_bub[j] = array_bub[j], array_bub[i]"
   ]
  },
  {
   "cell_type": "code",
   "execution_count": 54,
   "metadata": {},
   "outputs": [
    {
     "name": "stdout",
     "output_type": "stream",
     "text": [
      "Sorted ? True\n",
      "[0, 1, 2, 3, 4, 5, 6, 7, 8, 9, 10, 11, 12, 13, 14, 15, 16, 17, 18, 19, 20, 21, 22, 23, 24, 25, 26, 27, 28, 29, 30, 31, 32, 33, 34, 35, 36, 37, 38, 39, 40, 41, 42, 43, 44, 45, 46, 47, 48, 49, 50, 51, 52, 53, 54, 55, 56, 57, 58, 59, 60, 61, 62, 63, 64, 65, 66, 67, 68, 69, 70, 71, 72, 73, 74, 75, 76, 77, 78, 79, 80, 81, 82, 83, 84, 85, 86, 87, 88, 89, 90, 91, 92, 93, 94, 95, 96, 97, 98, 99]"
     ]
    }
   ],
   "source": [
    "print_test(array_bub, array)"
   ]
  },
  {
   "cell_type": "markdown",
   "metadata": {},
   "source": [
    "### 2. Insertion sort\n",
    "- Efficient for smaller datasets\n",
    "- Better than insertion sort\n",
    "- Stable sorting technique\n",
    "\n",
    "\n",
    "\n",
    "__Time complexity:__\n",
    "- Worst case $O(n^2)$\n",
    "- Average case $O(n^2)$\n",
    "- Best case $O(n)$ when list is already sorted\n"
   ]
  },
  {
   "cell_type": "code",
   "execution_count": 96,
   "metadata": {},
   "outputs": [],
   "source": [
    "inser_arr = array[::]\n",
    "\n",
    "for i in range(1, ARRAY_LENGTH):\n",
    "    \n",
    "    key = inser_arr[i]\n",
    "    j = i-1\n",
    "    # if key is less than previous varlues\n",
    "    # swap\n",
    "    while j >= 0 and key < inser_arr[j]:\n",
    "            # swap if key is less than value at position j\n",
    "            inser_arr[j+1], inser_arr[j] = inser_arr[j], inser_arr[j+1]\n",
    "            j -= 1\n",
    "    inser_arr[j]"
   ]
  },
  {
   "cell_type": "code",
   "execution_count": 97,
   "metadata": {},
   "outputs": [
    {
     "name": "stdout",
     "output_type": "stream",
     "text": [
      "Sorted ? True\n",
      "[0, 1, 2, 3, 4, 5, 6, 7, 8, 9, 10, 11, 12, 13, 14, 15, 16, 17, 18, 19, 20, 21, 22, 23, 24, 25, 26, 27, 28, 29, 30, 31, 32, 33, 34, 35, 36, 37, 38, 39, 40, 41, 42, 43, 44, 45, 46, 47, 48, 49, 50, 51, 52, 53, 54, 55, 56, 57, 58, 59, 60, 61, 62, 63, 64, 65, 66, 67, 68, 69, 70, 71, 72, 73, 74, 75, 76, 77, 78, 79, 80, 81, 82, 83, 84, 85, 86, 87, 88, 89, 90, 91, 92, 93, 94, 95, 96, 97, 98, 99]"
     ]
    }
   ],
   "source": [
    "print_test(inser_arr, array)"
   ]
  },
  {
   "cell_type": "markdown",
   "metadata": {},
   "source": [
    "### 3. Selection sort\n",
    "- Find the smallest element in the array and swap it with the element in the first poisition\n",
    "- Find the second smallest element in the array and swap it with the element in the second poisition\n",
    "- Repeat doing this until the entire array is sorted\n",
    "\n",
    "__Analysis:__\n",
    "- Double nested for loop, one to find minimum index and other to iterate over array\n",
    "\n",
    "__Time complexity:__\n",
    "- Worst case $O(n^2)$\n",
    "- Best case $O(n^2)$\n",
    "- Average case $O(n^2)$\n",
    "\n",
    "__Advantages:__\n",
    "- Simple algorithm\n",
    "- space memory is O(1) (only a single additional memory space is required)\n"
   ]
  },
  {
   "cell_type": "code",
   "execution_count": 69,
   "metadata": {},
   "outputs": [],
   "source": [
    "sel_array = array[::]\n",
    "\n",
    "for i in range(ARRAY_LENGTH):\n",
    "    min_idx = sel_array.index(min(sel_array[i:])) # min needs a for loop\n",
    "    sel_array[i], sel_array[min_idx] = sel_array[min_idx], sel_array[i]"
   ]
  },
  {
   "cell_type": "code",
   "execution_count": 70,
   "metadata": {},
   "outputs": [
    {
     "name": "stdout",
     "output_type": "stream",
     "text": [
      "Sorted ? True\n",
      "[0, 1, 2, 3, 4, 5, 6, 7, 8, 9, 10, 11, 12, 13, 14, 15, 16, 17, 18, 19, 20, 21, 22, 23, 24, 25, 26, 27, 28, 29, 30, 31, 32, 33, 34, 35, 36, 37, 38, 39, 40, 41, 42, 43, 44, 45, 46, 47, 48, 49, 50, 51, 52, 53, 54, 55, 56, 57, 58, 59, 60, 61, 62, 63, 64, 65, 66, 67, 68, 69, 70, 71, 72, 73, 74, 75, 76, 77, 78, 79, 80, 81, 82, 83, 84, 85, 86, 87, 88, 89, 90, 91, 92, 93, 94, 95, 96, 97, 98, 99]"
     ]
    }
   ],
   "source": [
    "print_test(sel_array, array)"
   ]
  },
  {
   "cell_type": "markdown",
   "metadata": {},
   "source": [
    "### 1 Merge Sort\n",
    "- Divide and Conquer \n",
    "- Sort elements recursively\n",
    "\n",
    "### How it works\n",
    "- Divides array into n subarrays\n",
    "- Then repeatedly merges subarrays\n",
    "\n",
    "- Divides array midway until having multiple subarrays with single element in them\n",
    "\n",
    "\n",
    "__Analysis:__\n",
    "- runs in $O(nlog n)$ time in all the cases\n",
    "\n",
    "__Time complexity:__\n",
    "- Worst case $O(nlogn)$\n",
    "- Best case $O(nlogn)$\n",
    "- Average case $O(nlogn)$\n",
    "\n",
    "__Advantages:__\n",
    "- Quite fast\n",
    "- Stable algorithm\n"
   ]
  },
  {
   "cell_type": "code",
   "execution_count": 15,
   "metadata": {},
   "outputs": [],
   "source": [
    "# Python program for implementation of MergeSort\n",
    "def mergeSort(arr):\n",
    "    if len(arr) > 1:\n",
    " \n",
    "         # Finding the mid of the array\n",
    "        mid = len(arr)//2\n",
    " \n",
    "        # Dividing the array elements\n",
    "        L = arr[:mid]\n",
    " \n",
    "        # into 2 halves\n",
    "        R = arr[mid:]\n",
    " \n",
    "        # Sorting the first half\n",
    "        mergeSort(L)\n",
    " \n",
    "        # Sorting the second half\n",
    "        mergeSort(R)\n",
    " \n",
    "        i = j = k = 0\n",
    " \n",
    "        # Copy data to temp arrays L[] and R[]\n",
    "        while i < len(L) and j < len(R):\n",
    "            if L[i] < R[j]:\n",
    "                arr[k] = L[i]\n",
    "                i += 1\n",
    "            else:\n",
    "                arr[k] = R[j]\n",
    "                j += 1\n",
    "            k += 1\n",
    " \n",
    "        # Checking if any element was left\n",
    "        while i < len(L):\n",
    "            arr[k] = L[i]\n",
    "            i += 1\n",
    "            k += 1\n",
    " \n",
    "        while j < len(R):\n",
    "            arr[k] = R[j]\n",
    "            j += 1\n",
    "            k += 1\n",
    "    "
   ]
  },
  {
   "cell_type": "code",
   "execution_count": 19,
   "metadata": {},
   "outputs": [
    {
     "name": "stdout",
     "output_type": "stream",
     "text": [
      "Sorted ? True\n",
      "[0, 1, 2, 3, 4, 5, 6, 7, 8, 9, 10, 11, 12, 13, 14, 15, 16, 17, 18, 19, 20, 21, 22, 23, 24, 25, 26, 27, 28, 29, 30, 31, 32, 33, 34, 35, 36, 37, 38, 39, 40, 41, 42, 43, 44, 45, 46, 47, 48, 49, 50, 51, 52, 53, 54, 55, 56, 57, 58, 59, 60, 61, 62, 63, 64, 65, 66, 67, 68, 69, 70, 71, 72, 73, 74, 75, 76, 77, 78, 79, 80, 81, 82, 83, 84, 85, 86, 87, 88, 89, 90, 91, 92, 93, 94, 95, 96, 97, 98, 99]"
     ]
    }
   ],
   "source": [
    "print_test(merge_sort,sorted(array))"
   ]
  },
  {
   "cell_type": "markdown",
   "metadata": {},
   "source": [
    "### 2. Heap Sort\n",
    "- Heap is a complete binary tree (all level of tree are fully filled)\n",
    "- Heap sort involves building a Heap data structure from the given array\n",
    "- Utilizing the Heap to sort the array\n",
    "\n",
    "### How it works\n",
    "- Creating a Heap of the unsorted list/array\n",
    "- Then a sorted array is created by repeatedly removing the largest/smallest element from the heap, and inserting it into the array\n",
    "\n",
    "\n",
    "__Analysis:__\n",
    "- runs in $O(nlog n)$ time in all the cases\n",
    "\n",
    "__Time complexity:__\n",
    "- Worst case $O(nlogn)$\n",
    "- Best case $O(nlogn)$\n",
    "- Average case $O(nlogn)$\n",
    "\n",
    "__Advantages:__\n",
    "- No quadratic worst-case running time\n",
    "- Stable algorithm\n"
   ]
  },
  {
   "cell_type": "markdown",
   "metadata": {},
   "source": [
    "### 3. Counting sort\n",
    "- Counting sort is suitable for sorting numbers that belong to a well-defined\n",
    "- It is an integer-based sorting algorithm unlike others which are usually comparison-based\n",
    "\n",
    "### How it works\n",
    "- Consider an input array A having n elements in the range of 0 to k\n",
    "- Element in array A must be soreted from range 0 to k\n",
    "- The count/frequency of each distinct element in A stored in another array of size k+1\n",
    "- Update the count array so that element at each index\n",
    "- Updated count array gives the index of each element of array A in the sorted sequence\n",
    "- Sorted sequence is stored in an output array, of size n\n",
    " \n",
    "\n",
    "__Analysis:__\n",
    "- Scanning the input array elements, the loop iterates n times, thus taking $O(n)$ running time\n",
    "- Total running time for counting sort algorithm is O(n+k)\n",
    "\n",
    "__Time complexity:__\n",
    "k is range of the non negative values\n",
    "- Worst case $O(n+k)$\n",
    "- Best case $O(n+k)$\n",
    "- Average case $O(n+k)$\n",
    "\n",
    "__Advantages:__\n",
    "- Efficient sorting algorithm that can be used for sorting elements within a specific range\n",
    "- Stable algorithm\n",
    "\n",
    "__Disadvantages:__\n",
    "- Not suitable for sorting large data sets\n",
    "- Not suitable for sorting string values\n",
    "\n"
   ]
  },
  {
   "cell_type": "code",
   "execution_count": 46,
   "metadata": {},
   "outputs": [],
   "source": [
    "from collections import Counter\n",
    "import numpy as np"
   ]
  },
  {
   "cell_type": "code",
   "execution_count": 88,
   "metadata": {},
   "outputs": [
    {
     "name": "stdout",
     "output_type": "stream",
     "text": [
      "[0, 3, 2, 1, 0, 2, 0, 1, 1, 0, 0]\n",
      "Using the formula, updated count array is\n",
      "[0, 3, 5, 6, 6, 8, 8, 9, 10, 10, 10]\n"
     ]
    }
   ],
   "source": [
    "# Array of number in range 9\n",
    "arr = [1, 3, 2, 8, 5, 1, 5, 1, 2, 7]\n",
    "\n",
    "count = [0]*(10+1)\n",
    "\n",
    "elements_ =  Counter(arr).items()\n",
    "for idx, c in elements_:\n",
    "    count[idx] = c\n",
    "\n",
    "print(count)\n",
    "print(\"Using the formula, updated count array is\")\n",
    "count = np.cumsum(count).tolist()\n",
    "print(count)"
   ]
  },
  {
   "cell_type": "code",
   "execution_count": 89,
   "metadata": {},
   "outputs": [
    {
     "data": {
      "text/plain": [
       "[None, 1, 1, 1, 2, 2, 3, 5, 5, 7, 8]"
      ]
     },
     "execution_count": 89,
     "metadata": {},
     "output_type": "execute_result"
    }
   ],
   "source": [
    "\n",
    "sorted_array = [None]*(len(arr)+1)\n",
    "\n",
    "for i in arr:\n",
    "    sorted_array[count[i]] = i\n",
    "    count[i] -= 1\n",
    "\n",
    "sorted_array"
   ]
  },
  {
   "cell_type": "markdown",
   "metadata": {},
   "source": [
    "### 4. Quick sort\n",
    "- Follow Divide and conquer rule\n",
    "- Selecting a 'pivot' element from the array\n",
    "- Partitioning the other elements into two sub-arrays\n",
    "- Sort sub-arrays recursively"
   ]
  },
  {
   "cell_type": "code",
   "execution_count": 114,
   "metadata": {},
   "outputs": [],
   "source": [
    "def partitionning(array, l, h):\n",
    "    \n",
    "    pivot = array[l]\n",
    "    \n",
    "    i=l\n",
    "    j=h\n",
    "    while (i < j):\n",
    "        while (array[i] <= pivot):\n",
    "            i+=1\n",
    "        while (array[j] > pivot):\n",
    "            j -= 1\n",
    "        if i < j:\n",
    "            array[i], array[j] = array[j], array[i]\n",
    "    array[i], array[j] = array[j], array[j]\n",
    "    return j\n",
    "\n"
   ]
  },
  {
   "cell_type": "code",
   "execution_count": null,
   "metadata": {},
   "outputs": [],
   "source": [
    "def quicksort(array):\n",
    "    \n",
    "    pivot_idx = random.choice(list(range(len(array))))\n",
    "    \n",
    "    pivot = array[pivot_idx]\n",
    "    \n",
    "    array_one = array[:pivot_idx]\n",
    "    if pivot_idx != len(array):\n",
    "        array_two = array[pivot_idx+1: ]\n",
    "    else:\n",
    "        array_two = array[pivot_idx: ]\n"
   ]
  },
  {
   "cell_type": "markdown",
   "metadata": {},
   "source": [
    "### 5. Merge sort"
   ]
  },
  {
   "cell_type": "code",
   "execution_count": null,
   "metadata": {},
   "outputs": [],
   "source": [
    " "
   ]
  }
 ],
 "metadata": {
  "kernelspec": {
   "display_name": "Python 3",
   "language": "python",
   "name": "python3"
  },
  "language_info": {
   "codemirror_mode": {
    "name": "ipython",
    "version": 3
   },
   "file_extension": ".py",
   "mimetype": "text/x-python",
   "name": "python",
   "nbconvert_exporter": "python",
   "pygments_lexer": "ipython3",
   "version": "3.8.5"
  }
 },
 "nbformat": 4,
 "nbformat_minor": 4
}
